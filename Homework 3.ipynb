{
 "cells": [
  {
   "cell_type": "markdown",
   "id": "38a43d03",
   "metadata": {},
   "source": [
    "# Задание к теме «Гибридные рекомендательные системы»\n",
    "Что делать?\n",
    "\n",
    "1. Датасет ml-latest\n",
    "2. Вспомнить подходы, которые мы разбирали\n",
    "3. Выбрать понравившийся подход к гибридным системам\n",
    "4. Написать свою"
   ]
  },
  {
   "cell_type": "code",
   "execution_count": 1,
   "id": "b7d9fb11",
   "metadata": {},
   "outputs": [],
   "source": [
    "# Загружаем необходимые библиотеки\n",
    "from surprise import SVDpp\n",
    "from surprise import Dataset\n",
    "from surprise import accuracy\n",
    "from surprise import Reader\n",
    "from surprise.model_selection import train_test_split\n",
    "\n",
    "from tqdm import tqdm_notebook\n",
    "\n",
    "from sklearn.feature_extraction.text import TfidfTransformer, CountVectorizer\n",
    "from sklearn.neighbors import NearestNeighbors\n",
    "\n",
    "import pandas as pd\n",
    "import numpy as np"
   ]
  },
  {
   "cell_type": "code",
   "execution_count": 2,
   "id": "c16f4770",
   "metadata": {},
   "outputs": [],
   "source": [
    "# Загружаем данные\n",
    "movies = pd.read_csv('movies.csv')\n",
    "ratings = pd.read_csv('ratings.csv')"
   ]
  },
  {
   "cell_type": "code",
   "execution_count": 3,
   "id": "9731c1c4",
   "metadata": {},
   "outputs": [
    {
     "data": {
      "text/html": [
       "<div>\n",
       "<style scoped>\n",
       "    .dataframe tbody tr th:only-of-type {\n",
       "        vertical-align: middle;\n",
       "    }\n",
       "\n",
       "    .dataframe tbody tr th {\n",
       "        vertical-align: top;\n",
       "    }\n",
       "\n",
       "    .dataframe thead th {\n",
       "        text-align: right;\n",
       "    }\n",
       "</style>\n",
       "<table border=\"1\" class=\"dataframe\">\n",
       "  <thead>\n",
       "    <tr style=\"text-align: right;\">\n",
       "      <th></th>\n",
       "      <th>movieId</th>\n",
       "      <th>title</th>\n",
       "      <th>genres</th>\n",
       "      <th>userId</th>\n",
       "      <th>rating</th>\n",
       "      <th>timestamp</th>\n",
       "    </tr>\n",
       "  </thead>\n",
       "  <tbody>\n",
       "    <tr>\n",
       "      <th>0</th>\n",
       "      <td>1</td>\n",
       "      <td>Toy Story (1995)</td>\n",
       "      <td>Adventure|Animation|Children|Comedy|Fantasy</td>\n",
       "      <td>1.0</td>\n",
       "      <td>4.0</td>\n",
       "      <td>9.649827e+08</td>\n",
       "    </tr>\n",
       "    <tr>\n",
       "      <th>1</th>\n",
       "      <td>1</td>\n",
       "      <td>Toy Story (1995)</td>\n",
       "      <td>Adventure|Animation|Children|Comedy|Fantasy</td>\n",
       "      <td>5.0</td>\n",
       "      <td>4.0</td>\n",
       "      <td>8.474350e+08</td>\n",
       "    </tr>\n",
       "    <tr>\n",
       "      <th>2</th>\n",
       "      <td>1</td>\n",
       "      <td>Toy Story (1995)</td>\n",
       "      <td>Adventure|Animation|Children|Comedy|Fantasy</td>\n",
       "      <td>7.0</td>\n",
       "      <td>4.5</td>\n",
       "      <td>1.106636e+09</td>\n",
       "    </tr>\n",
       "    <tr>\n",
       "      <th>3</th>\n",
       "      <td>1</td>\n",
       "      <td>Toy Story (1995)</td>\n",
       "      <td>Adventure|Animation|Children|Comedy|Fantasy</td>\n",
       "      <td>15.0</td>\n",
       "      <td>2.5</td>\n",
       "      <td>1.510578e+09</td>\n",
       "    </tr>\n",
       "    <tr>\n",
       "      <th>4</th>\n",
       "      <td>1</td>\n",
       "      <td>Toy Story (1995)</td>\n",
       "      <td>Adventure|Animation|Children|Comedy|Fantasy</td>\n",
       "      <td>17.0</td>\n",
       "      <td>4.5</td>\n",
       "      <td>1.305696e+09</td>\n",
       "    </tr>\n",
       "  </tbody>\n",
       "</table>\n",
       "</div>"
      ],
      "text/plain": [
       "   movieId             title                                       genres  \\\n",
       "0        1  Toy Story (1995)  Adventure|Animation|Children|Comedy|Fantasy   \n",
       "1        1  Toy Story (1995)  Adventure|Animation|Children|Comedy|Fantasy   \n",
       "2        1  Toy Story (1995)  Adventure|Animation|Children|Comedy|Fantasy   \n",
       "3        1  Toy Story (1995)  Adventure|Animation|Children|Comedy|Fantasy   \n",
       "4        1  Toy Story (1995)  Adventure|Animation|Children|Comedy|Fantasy   \n",
       "\n",
       "   userId  rating     timestamp  \n",
       "0     1.0     4.0  9.649827e+08  \n",
       "1     5.0     4.0  8.474350e+08  \n",
       "2     7.0     4.5  1.106636e+09  \n",
       "3    15.0     2.5  1.510578e+09  \n",
       "4    17.0     4.5  1.305696e+09  "
      ]
     },
     "execution_count": 3,
     "metadata": {},
     "output_type": "execute_result"
    }
   ],
   "source": [
    "# Объединяем данные\n",
    "movies_with_ratings = movies.join(ratings.set_index('movieId'), on='movieId').reset_index(drop=True)\n",
    "movies_with_ratings.dropna(inplace=True)\n",
    "movies_with_ratings.head()"
   ]
  },
  {
   "cell_type": "code",
   "execution_count": 4,
   "id": "d9c94486",
   "metadata": {},
   "outputs": [
    {
     "data": {
      "text/html": [
       "<div>\n",
       "<style scoped>\n",
       "    .dataframe tbody tr th:only-of-type {\n",
       "        vertical-align: middle;\n",
       "    }\n",
       "\n",
       "    .dataframe tbody tr th {\n",
       "        vertical-align: top;\n",
       "    }\n",
       "\n",
       "    .dataframe thead th {\n",
       "        text-align: right;\n",
       "    }\n",
       "</style>\n",
       "<table border=\"1\" class=\"dataframe\">\n",
       "  <thead>\n",
       "    <tr style=\"text-align: right;\">\n",
       "      <th></th>\n",
       "      <th>uid</th>\n",
       "      <th>iid</th>\n",
       "      <th>rating</th>\n",
       "    </tr>\n",
       "  </thead>\n",
       "  <tbody>\n",
       "    <tr>\n",
       "      <th>0</th>\n",
       "      <td>1.0</td>\n",
       "      <td>Toy Story (1995)</td>\n",
       "      <td>4.0</td>\n",
       "    </tr>\n",
       "    <tr>\n",
       "      <th>1</th>\n",
       "      <td>5.0</td>\n",
       "      <td>Toy Story (1995)</td>\n",
       "      <td>4.0</td>\n",
       "    </tr>\n",
       "    <tr>\n",
       "      <th>2</th>\n",
       "      <td>7.0</td>\n",
       "      <td>Toy Story (1995)</td>\n",
       "      <td>4.5</td>\n",
       "    </tr>\n",
       "    <tr>\n",
       "      <th>3</th>\n",
       "      <td>15.0</td>\n",
       "      <td>Toy Story (1995)</td>\n",
       "      <td>2.5</td>\n",
       "    </tr>\n",
       "    <tr>\n",
       "      <th>4</th>\n",
       "      <td>17.0</td>\n",
       "      <td>Toy Story (1995)</td>\n",
       "      <td>4.5</td>\n",
       "    </tr>\n",
       "  </tbody>\n",
       "</table>\n",
       "</div>"
      ],
      "text/plain": [
       "    uid               iid  rating\n",
       "0   1.0  Toy Story (1995)     4.0\n",
       "1   5.0  Toy Story (1995)     4.0\n",
       "2   7.0  Toy Story (1995)     4.5\n",
       "3  15.0  Toy Story (1995)     2.5\n",
       "4  17.0  Toy Story (1995)     4.5"
      ]
     },
     "execution_count": 4,
     "metadata": {},
     "output_type": "execute_result"
    }
   ],
   "source": [
    "# Составляем датасет для модели\n",
    "dataset = pd.DataFrame({\n",
    "    'uid': movies_with_ratings.userId,\n",
    "    'iid': movies_with_ratings.title,\n",
    "    'rating': movies_with_ratings.rating\n",
    "})\n",
    "dataset.head()"
   ]
  },
  {
   "cell_type": "code",
   "execution_count": 5,
   "id": "7c53569f",
   "metadata": {},
   "outputs": [
    {
     "data": {
      "text/plain": [
       "0.5"
      ]
     },
     "execution_count": 5,
     "metadata": {},
     "output_type": "execute_result"
    }
   ],
   "source": [
    "# Определяем минимальный рейтинг\n",
    "ratings.rating.min()"
   ]
  },
  {
   "cell_type": "code",
   "execution_count": 6,
   "id": "fafa8357",
   "metadata": {},
   "outputs": [
    {
     "data": {
      "text/plain": [
       "5.0"
      ]
     },
     "execution_count": 6,
     "metadata": {},
     "output_type": "execute_result"
    }
   ],
   "source": [
    "# Определяем максимальный рейтинг\n",
    "ratings.rating.max()"
   ]
  },
  {
   "cell_type": "code",
   "execution_count": 7,
   "id": "f8eebf60",
   "metadata": {},
   "outputs": [],
   "source": [
    "# Определяем ридер и задаём масштаб значений\n",
    "reader = Reader(rating_scale=(0.5, 5.0))"
   ]
  },
  {
   "cell_type": "code",
   "execution_count": 8,
   "id": "ae48fb11",
   "metadata": {},
   "outputs": [],
   "source": [
    "# Формируем датасет\n",
    "data = Dataset.load_from_df(dataset, reader)"
   ]
  },
  {
   "cell_type": "code",
   "execution_count": 9,
   "id": "4de1a150",
   "metadata": {},
   "outputs": [],
   "source": [
    "# Разделяем данные не тренировочную и тестовую части\n",
    "trainset, testset = train_test_split(data, test_size=.15)"
   ]
  },
  {
   "cell_type": "code",
   "execution_count": 10,
   "id": "0a382fd0",
   "metadata": {},
   "outputs": [
    {
     "data": {
      "text/plain": [
       "<surprise.prediction_algorithms.matrix_factorization.SVDpp at 0x18e0f431370>"
      ]
     },
     "execution_count": 10,
     "metadata": {},
     "output_type": "execute_result"
    }
   ],
   "source": [
    "# Получаем скрытые факторы\n",
    "algo = SVDpp(n_factors=20, n_epochs=20)\n",
    "algo.fit(trainset)"
   ]
  },
  {
   "cell_type": "code",
   "execution_count": 11,
   "id": "2b9a2622",
   "metadata": {},
   "outputs": [],
   "source": [
    "# Осуществляем предсказания на тестовом датасете\n",
    "test_pred = algo.test(testset)"
   ]
  },
  {
   "cell_type": "code",
   "execution_count": 12,
   "id": "9b925733",
   "metadata": {},
   "outputs": [
    {
     "name": "stdout",
     "output_type": "stream",
     "text": [
      "RMSE: 0.8593\n"
     ]
    },
    {
     "data": {
      "text/plain": [
       "0.8593213273761116"
      ]
     },
     "execution_count": 12,
     "metadata": {},
     "output_type": "execute_result"
    }
   ],
   "source": [
    "# Определяем RMSE\n",
    "accuracy.rmse(test_pred, verbose=True)"
   ]
  },
  {
   "cell_type": "code",
   "execution_count": 13,
   "id": "04018770",
   "metadata": {},
   "outputs": [],
   "source": [
    "# Проскорим фильмы для дальнейшей работы\n",
    "current_user_id = 7.0\n",
    "user_movies = movies_with_ratings[movies_with_ratings.userId == current_user_id].title.unique()\n",
    "\n",
    "scores = []\n",
    "titles = []\n",
    "\n",
    "for movie in movies_with_ratings.title.unique():\n",
    "    if movie in user_movies:\n",
    "        continue\n",
    "        \n",
    "    scores.append(algo.predict(uid=current_user_id, iid=movie).est)\n",
    "    titles.append(movie)"
   ]
  },
  {
   "cell_type": "code",
   "execution_count": 14,
   "id": "4e009bbf",
   "metadata": {},
   "outputs": [
    {
     "data": {
      "text/plain": [
       "[4.050582373299139,\n",
       " 4.054810106462027,\n",
       " 4.064213646540347,\n",
       " 4.067417095655176,\n",
       " 4.083271313174095,\n",
       " 4.086665305460706,\n",
       " 4.099690127609748,\n",
       " 4.136483203632401,\n",
       " 4.14548320101429,\n",
       " 4.285408061492748]"
      ]
     },
     "execution_count": 14,
     "metadata": {},
     "output_type": "execute_result"
    }
   ],
   "source": [
    "# Смотрим рейтинг топ-10 фильмов\n",
    "sorted(scores)[-10:]"
   ]
  },
  {
   "cell_type": "code",
   "execution_count": 15,
   "id": "74b84cb6",
   "metadata": {},
   "outputs": [],
   "source": [
    "# Функция, разделяющая строку на части\n",
    "def change_string(s):\n",
    "    return ' '.join(s.replace(' ', '').replace('-', '').split('|'))"
   ]
  },
  {
   "cell_type": "code",
   "execution_count": 16,
   "id": "db5647dc",
   "metadata": {},
   "outputs": [
    {
     "data": {
      "text/plain": [
       "'Adventure Animation Children Comedy Fantasy'"
      ]
     },
     "execution_count": 16,
     "metadata": {},
     "output_type": "execute_result"
    }
   ],
   "source": [
    "# Получаем теги\n",
    "movie_genres = [change_string(g) for g in movies.genres.values]\n",
    "movie_genres[0]"
   ]
  },
  {
   "cell_type": "code",
   "execution_count": 17,
   "id": "9fcda845",
   "metadata": {},
   "outputs": [],
   "source": [
    "# Подсчитываем количество слов\n",
    "count_vect = CountVectorizer()\n",
    "X_train_counts = count_vect.fit_transform(movie_genres)"
   ]
  },
  {
   "cell_type": "code",
   "execution_count": 18,
   "id": "69e463df",
   "metadata": {},
   "outputs": [],
   "source": [
    "# Выполняем TF-IDF преобразование\n",
    "tfidf_transformer = TfidfTransformer()\n",
    "X_train_tfidf = tfidf_transformer.fit_transform(X_train_counts)"
   ]
  },
  {
   "cell_type": "code",
   "execution_count": 19,
   "id": "910af59b",
   "metadata": {},
   "outputs": [
    {
     "data": {
      "text/plain": [
       "NearestNeighbors(metric='euclidean', n_jobs=-1, n_neighbors=20)"
      ]
     },
     "execution_count": 19,
     "metadata": {},
     "output_type": "execute_result"
    }
   ],
   "source": [
    "# Находим ближайших соседей по полученным TF-IDF векторам\n",
    "neigh = NearestNeighbors(n_neighbors=20, n_jobs=-1, metric='euclidean') \n",
    "neigh.fit(X_train_tfidf)"
   ]
  },
  {
   "cell_type": "code",
   "execution_count": 20,
   "id": "7262157c",
   "metadata": {},
   "outputs": [],
   "source": [
    "# Делаем предсказание\n",
    "test = change_string(\"Adventure|Comedy|Fantasy|Crime\")\n",
    "\n",
    "predict = count_vect.transform([test])\n",
    "X_tfidf2 = tfidf_transformer.transform(predict)\n",
    "\n",
    "res = neigh.kneighbors(X_tfidf2, return_distance=True)"
   ]
  },
  {
   "cell_type": "code",
   "execution_count": 21,
   "id": "3593a24c",
   "metadata": {},
   "outputs": [
    {
     "name": "stderr",
     "output_type": "stream",
     "text": [
      "C:\\Users\\khark\\AppData\\Local\\Temp/ipykernel_15892/1046397591.py:4: TqdmDeprecationWarning: This function will be removed in tqdm==5.0.0\n",
      "Please use `tqdm.notebook.tqdm` instead of `tqdm.tqdm_notebook`\n",
      "  for index, row in tqdm_notebook(movies.iterrows()):\n"
     ]
    },
    {
     "data": {
      "application/vnd.jupyter.widget-view+json": {
       "model_id": "388f7ad090d044c091af85194ca01824",
       "version_major": 2,
       "version_minor": 0
      },
      "text/plain": [
       "0it [00:00, ?it/s]"
      ]
     },
     "metadata": {},
     "output_type": "display_data"
    }
   ],
   "source": [
    "# Создаём словарь из наименования фильма (ключ) и тегов (значение)\n",
    "title_genres = {}\n",
    "\n",
    "for index, row in tqdm_notebook(movies.iterrows()):\n",
    "    title_genres[row.title] = row.genres"
   ]
  },
  {
   "cell_type": "code",
   "execution_count": 22,
   "id": "affcfe03",
   "metadata": {},
   "outputs": [],
   "source": [
    "# Функция рекомендаций для пользователей на основе SVDpp и KDTree\n",
    "def recommend_for_user(user_id):\n",
    "    current_user_id = user_id # Фиксируем пользователя\n",
    "    user_movies = movies_with_ratings[movies_with_ratings.userId == current_user_id].title.unique() # Определяем фильмы, которые он видел\n",
    "    \n",
    "    last_user_movie = user_movies[-1] # Последний просмотренный фильм\n",
    "    \n",
    "    movie_genres = title_genres[last_user_movie] # Жанры последнего фильма\n",
    "    \n",
    "    movie_genres = change_string(movie_genres) # Разделяем жанры последнего фильма\n",
    "\n",
    "    predict = count_vect.transform([movie_genres]) # Трансформируем в количество слов\n",
    "    X_tfidf2 = tfidf_transformer.transform(predict) # Трансформируем в TF-IDF веса\n",
    "\n",
    "    res = neigh.kneighbors(X_tfidf2, return_distance=True) # Получаем 20 близких по жанру фильмов\n",
    "    \n",
    "    movies_to_score = movies.iloc[res[1][0]].title.values # Сохраняем их в фильмы для скоринга\n",
    "\n",
    "    scores = []\n",
    "    titles = []\n",
    "\n",
    "    # Определяем скор для каждого фильма, сохранённого для скора\n",
    "    for movie in movies_to_score:\n",
    "        if movie in user_movies:\n",
    "            continue\n",
    "\n",
    "        scores.append(algo.predict(uid=current_user_id, iid=movie).est)\n",
    "        titles.append(movie)\n",
    "        \n",
    "    \n",
    "    best_indexes = np.argsort(scores)[-10:] # Получаем лучшие 10 фильмов\n",
    "    # Выводим топ 10 фильмов\n",
    "    for i in reversed(best_indexes):\n",
    "        print(titles[i], scores[i])"
   ]
  },
  {
   "cell_type": "code",
   "execution_count": 28,
   "id": "eff520c5",
   "metadata": {},
   "outputs": [
    {
     "name": "stdout",
     "output_type": "stream",
     "text": [
      "Big Fish (2003) 4.8998158200203665\n",
      "Like Water for Chocolate (Como agua para chocolate) (1992) 4.850195305524358\n",
      "Wristcutters: A Love Story (2006) 4.7656883812688235\n",
      "About Time (2013) 4.750849780377645\n",
      "Ghost and Mrs. Muir, The (1947) 4.643931966106656\n",
      "Double Life of Veronique, The (Double Vie de Véronique, La) (1991) 4.52236613705367\n",
      "Orlando (1992) 4.517485125549778\n",
      "Ghost (1990) 4.512233159730549\n",
      "Wings of Desire (Himmel über Berlin, Der) (1987) 4.489072158746132\n",
      "Edward Scissorhands (1990) 4.48749556844051\n"
     ]
    }
   ],
   "source": [
    "# Строим рекомендацию для пользователя\n",
    "recommend_for_user(12.0)"
   ]
  },
  {
   "cell_type": "code",
   "execution_count": 29,
   "id": "2824f318",
   "metadata": {},
   "outputs": [
    {
     "data": {
      "text/html": [
       "<div>\n",
       "<style scoped>\n",
       "    .dataframe tbody tr th:only-of-type {\n",
       "        vertical-align: middle;\n",
       "    }\n",
       "\n",
       "    .dataframe tbody tr th {\n",
       "        vertical-align: top;\n",
       "    }\n",
       "\n",
       "    .dataframe thead th {\n",
       "        text-align: right;\n",
       "    }\n",
       "</style>\n",
       "<table border=\"1\" class=\"dataframe\">\n",
       "  <thead>\n",
       "    <tr style=\"text-align: right;\">\n",
       "      <th></th>\n",
       "      <th>movieId</th>\n",
       "      <th>title</th>\n",
       "      <th>genres</th>\n",
       "      <th>userId</th>\n",
       "      <th>rating</th>\n",
       "      <th>timestamp</th>\n",
       "    </tr>\n",
       "  </thead>\n",
       "  <tbody>\n",
       "    <tr>\n",
       "      <th>39121</th>\n",
       "      <td>2072</td>\n",
       "      <td>'burbs, The (1989)</td>\n",
       "      <td>Comedy</td>\n",
       "      <td>12.0</td>\n",
       "      <td>5.0</td>\n",
       "      <td>1.247264e+09</td>\n",
       "    </tr>\n",
       "    <tr>\n",
       "      <th>30336</th>\n",
       "      <td>1357</td>\n",
       "      <td>Shine (1996)</td>\n",
       "      <td>Drama|Romance</td>\n",
       "      <td>12.0</td>\n",
       "      <td>5.0</td>\n",
       "      <td>1.247263e+09</td>\n",
       "    </tr>\n",
       "    <tr>\n",
       "      <th>81283</th>\n",
       "      <td>40629</td>\n",
       "      <td>Pride &amp; Prejudice (2005)</td>\n",
       "      <td>Drama|Romance</td>\n",
       "      <td>12.0</td>\n",
       "      <td>5.0</td>\n",
       "      <td>1.247264e+09</td>\n",
       "    </tr>\n",
       "    <tr>\n",
       "      <th>76352</th>\n",
       "      <td>8533</td>\n",
       "      <td>Notebook, The (2004)</td>\n",
       "      <td>Drama|Romance</td>\n",
       "      <td>12.0</td>\n",
       "      <td>5.0</td>\n",
       "      <td>1.247264e+09</td>\n",
       "    </tr>\n",
       "    <tr>\n",
       "      <th>72984</th>\n",
       "      <td>6942</td>\n",
       "      <td>Love Actually (2003)</td>\n",
       "      <td>Comedy|Drama|Romance</td>\n",
       "      <td>12.0</td>\n",
       "      <td>5.0</td>\n",
       "      <td>1.247264e+09</td>\n",
       "    </tr>\n",
       "    <tr>\n",
       "      <th>56154</th>\n",
       "      <td>3668</td>\n",
       "      <td>Romeo and Juliet (1968)</td>\n",
       "      <td>Drama|Romance</td>\n",
       "      <td>12.0</td>\n",
       "      <td>5.0</td>\n",
       "      <td>1.247264e+09</td>\n",
       "    </tr>\n",
       "    <tr>\n",
       "      <th>47245</th>\n",
       "      <td>2717</td>\n",
       "      <td>Ghostbusters II (1989)</td>\n",
       "      <td>Comedy|Fantasy|Sci-Fi</td>\n",
       "      <td>12.0</td>\n",
       "      <td>5.0</td>\n",
       "      <td>1.247263e+09</td>\n",
       "    </tr>\n",
       "    <tr>\n",
       "      <th>45404</th>\n",
       "      <td>2581</td>\n",
       "      <td>Never Been Kissed (1999)</td>\n",
       "      <td>Comedy|Romance</td>\n",
       "      <td>12.0</td>\n",
       "      <td>5.0</td>\n",
       "      <td>1.247263e+09</td>\n",
       "    </tr>\n",
       "    <tr>\n",
       "      <th>45293</th>\n",
       "      <td>2572</td>\n",
       "      <td>10 Things I Hate About You (1999)</td>\n",
       "      <td>Comedy|Romance</td>\n",
       "      <td>12.0</td>\n",
       "      <td>5.0</td>\n",
       "      <td>1.247264e+09</td>\n",
       "    </tr>\n",
       "    <tr>\n",
       "      <th>44223</th>\n",
       "      <td>2485</td>\n",
       "      <td>She's All That (1999)</td>\n",
       "      <td>Comedy|Romance</td>\n",
       "      <td>12.0</td>\n",
       "      <td>5.0</td>\n",
       "      <td>1.247264e+09</td>\n",
       "    </tr>\n",
       "  </tbody>\n",
       "</table>\n",
       "</div>"
      ],
      "text/plain": [
       "       movieId                              title                 genres  \\\n",
       "39121     2072                 'burbs, The (1989)                 Comedy   \n",
       "30336     1357                       Shine (1996)          Drama|Romance   \n",
       "81283    40629           Pride & Prejudice (2005)          Drama|Romance   \n",
       "76352     8533               Notebook, The (2004)          Drama|Romance   \n",
       "72984     6942               Love Actually (2003)   Comedy|Drama|Romance   \n",
       "56154     3668            Romeo and Juliet (1968)          Drama|Romance   \n",
       "47245     2717             Ghostbusters II (1989)  Comedy|Fantasy|Sci-Fi   \n",
       "45404     2581           Never Been Kissed (1999)         Comedy|Romance   \n",
       "45293     2572  10 Things I Hate About You (1999)         Comedy|Romance   \n",
       "44223     2485              She's All That (1999)         Comedy|Romance   \n",
       "\n",
       "       userId  rating     timestamp  \n",
       "39121    12.0     5.0  1.247264e+09  \n",
       "30336    12.0     5.0  1.247263e+09  \n",
       "81283    12.0     5.0  1.247264e+09  \n",
       "76352    12.0     5.0  1.247264e+09  \n",
       "72984    12.0     5.0  1.247264e+09  \n",
       "56154    12.0     5.0  1.247264e+09  \n",
       "47245    12.0     5.0  1.247263e+09  \n",
       "45404    12.0     5.0  1.247263e+09  \n",
       "45293    12.0     5.0  1.247264e+09  \n",
       "44223    12.0     5.0  1.247264e+09  "
      ]
     },
     "execution_count": 29,
     "metadata": {},
     "output_type": "execute_result"
    }
   ],
   "source": [
    "# Для проверки корректной работы функции посмотрим лучшие оценки от этого пользователя\n",
    "movies_with_ratings[movies_with_ratings.userId == 12.0].sort_values('rating', ascending=False).head(10)"
   ]
  },
  {
   "cell_type": "markdown",
   "id": "d41c3958",
   "metadata": {},
   "source": [
    "Рекомендованные фильмы близки к тем, что пользователь высоко оценил. Следовательно, функция работает корректно."
   ]
  }
 ],
 "metadata": {
  "kernelspec": {
   "display_name": "Python 3 (ipykernel)",
   "language": "python",
   "name": "python3"
  },
  "language_info": {
   "codemirror_mode": {
    "name": "ipython",
    "version": 3
   },
   "file_extension": ".py",
   "mimetype": "text/x-python",
   "name": "python",
   "nbconvert_exporter": "python",
   "pygments_lexer": "ipython3",
   "version": "3.9.7"
  }
 },
 "nbformat": 4,
 "nbformat_minor": 5
}
